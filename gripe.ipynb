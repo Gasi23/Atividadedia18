{
  "nbformat": 4,
  "nbformat_minor": 0,
  "metadata": {
    "colab": {
      "provenance": [],
      "authorship_tag": "ABX9TyObADFgTDX0QDVioyjsmV8J",
      "include_colab_link": true
    },
    "kernelspec": {
      "name": "python3",
      "display_name": "Python 3"
    },
    "language_info": {
      "name": "python"
    }
  },
  "cells": [
    {
      "cell_type": "markdown",
      "metadata": {
        "id": "view-in-github",
        "colab_type": "text"
      },
      "source": [
        "<a href=\"https://colab.research.google.com/github/Gasi23/Atividadedia18/blob/main/gripe.ipynb\" target=\"_parent\"><img src=\"https://colab.research.google.com/assets/colab-badge.svg\" alt=\"Open In Colab\"/></a>"
      ]
    },
    {
      "cell_type": "code",
      "execution_count": 2,
      "metadata": {
        "colab": {
          "base_uri": "https://localhost:8080/"
        },
        "id": "acFzSBGsqK3F",
        "outputId": "d57d97b8-3c30-49fb-9757-591e6fe87b23"
      },
      "outputs": [
        {
          "output_type": "stream",
          "name": "stdout",
          "text": [
            "Você está com febre alta (acima de 38°C)? (s/n)s\n",
            "Você sente calafrios? (s/n)n\n",
            "Você tem dor de garganta? (s/n)s\n",
            "Você está com dor no corpo ou nas articulações? (s/n)n\n",
            "Você tem dor de cabeça forte? (s/n)s\n",
            "Você está com tosse seca? (s/n)n\n",
            "Você está com congestão nasal? (s/n)s\n",
            "Você está sentindo fadiga extrema? (s/n)n\n",
            "A probabilidade de você estar com gripe é moderada.\n"
          ]
        }
      ],
      "source": [
        "# Programa para estimar a probabilidade de gripe\n",
        "\n",
        "def perguntar_sintomas():\n",
        "    perguntas = {\n",
        "        \"Você está com febre alta (acima de 38°C)? (s/n)\": 30,\n",
        "        \"Você sente calafrios? (s/n)\": 20,\n",
        "        \"Você tem dor de garganta? (s/n)\": 15,\n",
        "        \"Você está com dor no corpo ou nas articulações? (s/n)\": 25,\n",
        "        \"Você tem dor de cabeça forte? (s/n)\": 20,\n",
        "        \"Você está com tosse seca? (s/n)\": 10,\n",
        "        \"Você está com congestão nasal? (s/n)\": 10,\n",
        "        \"Você está sentindo fadiga extrema? (s/n)\": 30\n",
        "    }\n",
        "\n",
        "    pontuacao = 0\n",
        "\n",
        "    for pergunta, peso in perguntas.items():\n",
        "        resposta = input(pergunta)\n",
        "        if resposta.lower() == 's':\n",
        "            pontuacao += peso\n",
        "\n",
        "    return pontuacao\n",
        "\n",
        "def calcular_probabilidade(pontuacao):\n",
        "    if pontuacao >= 100:\n",
        "        return \"alta\"\n",
        "    elif 50 <= pontuacao < 100:\n",
        "        return \"moderada\"\n",
        "    else:\n",
        "        return \"baixa\"\n",
        "\n",
        "# Coletando respostas do usuário\n",
        "pontuacao_total = perguntar_sintomas()\n",
        "probabilidade = calcular_probabilidade(pontuacao_total)\n",
        "\n",
        "print(f\"A probabilidade de você estar com gripe é {probabilidade}.\")\n"
      ]
    }
  ]
}