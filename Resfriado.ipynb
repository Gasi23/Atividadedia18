{
  "nbformat": 4,
  "nbformat_minor": 0,
  "metadata": {
    "colab": {
      "provenance": [],
      "authorship_tag": "ABX9TyP72d8EpkkuDWIsF/eZeeEp",
      "include_colab_link": true
    },
    "kernelspec": {
      "name": "python3",
      "display_name": "Python 3"
    },
    "language_info": {
      "name": "python"
    }
  },
  "cells": [
    {
      "cell_type": "markdown",
      "metadata": {
        "id": "view-in-github",
        "colab_type": "text"
      },
      "source": [
        "<a href=\"https://colab.research.google.com/github/Gasi23/Atividadedia18/blob/main/Resfriado.ipynb\" target=\"_parent\"><img src=\"https://colab.research.google.com/assets/colab-badge.svg\" alt=\"Open In Colab\"/></a>"
      ]
    },
    {
      "cell_type": "code",
      "execution_count": 1,
      "metadata": {
        "colab": {
          "base_uri": "https://localhost:8080/"
        },
        "id": "acFzSBGsqK3F",
        "outputId": "db4b557b-6f8e-4959-f47a-a427e2d1e49b"
      },
      "outputs": [
        {
          "output_type": "stream",
          "name": "stdout",
          "text": [
            "Você está com coriza? (s/n)n\n",
            "Você está espirrando frequentemente? (s/n)n\n",
            "Você está com dor de garganta? (s/n)n\n",
            "Você está sentindo febre baixa? (s/n)n\n",
            "Você está com tosse? (s/n)n\n",
            "A probabilidade de você estar com um resfriado comum é de 0%.\n"
          ]
        }
      ],
      "source": [
        "# Programa para estimar a probabilidade de um resfriado comum\n",
        "\n",
        "def perguntar():\n",
        "    perguntas = {\n",
        "        \"Você está com coriza? (s/n)\": 20,\n",
        "        \"Você está espirrando frequentemente? (s/n)\": 20,\n",
        "        \"Você está com dor de garganta? (s/n)\": 20,\n",
        "        \"Você está sentindo febre baixa? (s/n)\": 20,\n",
        "        \"Você está com tosse? (s/n)\": 20,\n",
        "    }\n",
        "\n",
        "    pontuacao = 0\n",
        "\n",
        "    for pergunta, peso in perguntas.items():\n",
        "        resposta = input(pergunta)\n",
        "        if resposta.lower() == 's':\n",
        "            pontuacao += peso\n",
        "\n",
        "    return pontuacao\n",
        "\n",
        "def calcular_probabilidade(pontuacao):\n",
        "    return pontuacao\n",
        "\n",
        "# Coletando respostas do usuário\n",
        "pontuacao_total = perguntar()\n",
        "probabilidade = calcular_probabilidade(pontuacao_total)\n",
        "\n",
        "print(f\"A probabilidade de você estar com um resfriado comum é de {probabilidade}%.\")\n",
        "\n"
      ]
    }
  ]
}