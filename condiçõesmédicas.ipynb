{
  "nbformat": 4,
  "nbformat_minor": 0,
  "metadata": {
    "colab": {
      "provenance": [],
      "authorship_tag": "ABX9TyNKJN8eRTKwOla35a8eIx3O",
      "include_colab_link": true
    },
    "kernelspec": {
      "name": "python3",
      "display_name": "Python 3"
    },
    "language_info": {
      "name": "python"
    }
  },
  "cells": [
    {
      "cell_type": "markdown",
      "metadata": {
        "id": "view-in-github",
        "colab_type": "text"
      },
      "source": [
        "<a href=\"https://colab.research.google.com/github/Gasi23/Atividadedia18/blob/main/condi%C3%A7%C3%B5esm%C3%A9dicas.ipynb\" target=\"_parent\"><img src=\"https://colab.research.google.com/assets/colab-badge.svg\" alt=\"Open In Colab\"/></a>"
      ]
    },
    {
      "cell_type": "code",
      "execution_count": 5,
      "metadata": {
        "colab": {
          "base_uri": "https://localhost:8080/"
        },
        "id": "acFzSBGsqK3F",
        "outputId": "f167879e-b8cb-4edd-9ae7-8e5f91544bd3"
      },
      "outputs": [
        {
          "output_type": "stream",
          "name": "stdout",
          "text": [
            "Qual é a sua idade? 22\n",
            "Você tem histórico familiar de diabetes tipo 2? (s/n)n\n",
            "Qual é o seu IMC (Índice de Massa Corporal)? 22\n",
            "Você pratica exercícios físicos regularmente? (s/n)n\n",
            "Você tem dores de cabeça frequentes? (s/n)s\n",
            "Você sente dor no peito ao realizar esforço físico? (s/n)n\n",
            "Probabilidades estimadas para diferentes condições médicas:\n",
            "Diabetes: baixa probabilidade\n",
            "Hipertensao: baixa probabilidade\n",
            "Migraina: moderada probabilidade\n",
            "Problemas_cardio: baixa probabilidade\n"
          ]
        }
      ],
      "source": [
        "# Programa para estimar a probabilidade de várias condições médicas\n",
        "\n",
        "def perguntar_fatores():\n",
        "    perguntas = {\n",
        "        \"Qual é a sua idade? \": {'doencas': {'diabetes': 20, 'hipertensao': 10}, 'limite': 45},  # Acima de 45 anos\n",
        "        \"Você tem histórico familiar de diabetes tipo 2? (s/n)\": {'doencas': {'diabetes': 30}, 'limite': 's'},  # Sim\n",
        "        \"Qual é o seu IMC (Índice de Massa Corporal)? \": {'doencas': {'diabetes': 30, 'hipertensao': 20}, 'limite': 25},  # Acima de 25\n",
        "        \"Você pratica exercícios físicos regularmente? (s/n)\": {'doencas': {'diabetes': 20, 'hipertensao': 10}, 'limite': 'n'},  # Não\n",
        "        \"Você tem dores de cabeça frequentes? (s/n)\": {'doencas': {'migraina': 30}, 'limite': 's'},  # Sim\n",
        "        \"Você sente dor no peito ao realizar esforço físico? (s/n)\": {'doencas': {'problemas_cardio': 40}, 'limite': 's'},  # Sim\n",
        "    }\n",
        "\n",
        "    pontuacoes = {'diabetes': 0, 'hipertensao': 0, 'migraina': 0, 'problemas_cardio': 0}\n",
        "\n",
        "    for pergunta, crit in perguntas.items():\n",
        "        resposta = input(pergunta)\n",
        "        if isinstance(crit['limite'], int):\n",
        "            if int(resposta) > crit['limite']:\n",
        "                for doenca, peso in crit['doencas'].items():\n",
        "                    pontuacoes[doenca] += peso\n",
        "        else:\n",
        "            if resposta.lower() == crit['limite']:\n",
        "                for doenca, peso in crit['doencas'].items():\n",
        "                    pontuacoes[doenca] += peso\n",
        "\n",
        "    return pontuacoes\n",
        "\n",
        "def calcular_probabilidades(pontuacoes):\n",
        "    probabilidades = {}\n",
        "    for doenca, pontuacao in pontuacoes.items():\n",
        "        if pontuacao >= 50:\n",
        "            probabilidades[doenca] = \"alta\"\n",
        "        elif 30 <= pontuacao < 50:\n",
        "            probabilidades[doenca] = \"moderada\"\n",
        "        else:\n",
        "            probabilidades[doenca] = \"baixa\"\n",
        "    return probabilidades\n",
        "\n",
        "# Coletando respostas do usuário\n",
        "pontuacoes_total = perguntar_fatores()\n",
        "probabilidades = calcular_probabilidades(pontuacoes_total)\n",
        "\n",
        "print(\"Probabilidades estimadas para diferentes condições médicas:\")\n",
        "for doenca, probabilidade in probabilidades.items():\n",
        "    print(f\"{doenca.capitalize()}: {probabilidade} probabilidade\")\n"
      ]
    }
  ]
}