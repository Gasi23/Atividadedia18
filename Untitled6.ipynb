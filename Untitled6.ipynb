{
  "nbformat": 4,
  "nbformat_minor": 0,
  "metadata": {
    "colab": {
      "provenance": [],
      "authorship_tag": "ABX9TyMLWVqgaluATXf98NHDNioY",
      "include_colab_link": true
    },
    "kernelspec": {
      "name": "python3",
      "display_name": "Python 3"
    },
    "language_info": {
      "name": "python"
    }
  },
  "cells": [
    {
      "cell_type": "markdown",
      "metadata": {
        "id": "view-in-github",
        "colab_type": "text"
      },
      "source": [
        "<a href=\"https://colab.research.google.com/github/Gasi23/Atividadedia18/blob/main/Untitled6.ipynb\" target=\"_parent\"><img src=\"https://colab.research.google.com/assets/colab-badge.svg\" alt=\"Open In Colab\"/></a>"
      ]
    },
    {
      "cell_type": "code",
      "execution_count": 4,
      "metadata": {
        "colab": {
          "base_uri": "https://localhost:8080/"
        },
        "id": "czldzEgLBctL",
        "outputId": "012c0ebc-f461-44b5-fe2b-c8d6c0b32b98"
      },
      "outputs": [
        {
          "output_type": "stream",
          "name": "stdout",
          "text": [
            "Collecting pytesseract\n",
            "  Downloading pytesseract-0.3.13-py3-none-any.whl.metadata (11 kB)\n",
            "Requirement already satisfied: pillow in /usr/local/lib/python3.10/dist-packages (11.0.0)\n",
            "Requirement already satisfied: packaging>=21.3 in /usr/local/lib/python3.10/dist-packages (from pytesseract) (24.2)\n",
            "Downloading pytesseract-0.3.13-py3-none-any.whl (14 kB)\n",
            "Installing collected packages: pytesseract\n",
            "Successfully installed pytesseract-0.3.13\n"
          ]
        }
      ],
      "source": [
        "pip install pytesseract pillow\n"
      ]
    },
    {
      "cell_type": "code",
      "source": [
        "import pytesseract\n",
        "from PIL import Image\n",
        "import os\n",
        "\n",
        "# Certifique-se de que o caminho para o Tesseract esteja correto\n",
        "pytesseract.pytesseract.tesseract_cmd = r'C:\\Program Files\\Tesseract-OCR\\tesseract.exe'\n",
        "\n",
        "try:\n",
        "    # Substitua pelo caminho completo real onde a imagem está localizada\n",
        "    image_path = r'C:\\Users\\Gabriely\\Downloads\\documento_scaneado.jpg'\n",
        "\n",
        "    # Verifique se o arquivo existe\n",
        "    if os.path.isfile(image_path):\n",
        "        print(\"Arquivo encontrado!\")\n",
        "        image = Image.open(image_path)\n",
        "\n",
        "        # Usar Tesseract para extrair texto\n",
        "        text = pytesseract.image_to_string(image, lang='por')  # Use 'por' para Português\n",
        "\n",
        "        print(text)\n",
        "    else:\n",
        "        print(\"Arquivo não encontrado. Verifique o caminho do arquivo.\")\n",
        "except Exception as e:\n",
        "    print(f\"Ocorreu um erro: {e}\")\n"
      ],
      "metadata": {
        "colab": {
          "base_uri": "https://localhost:8080/"
        },
        "id": "Iz9ESBVgCjYB",
        "outputId": "569126b4-e2aa-4d98-977c-6d71ee95da06"
      },
      "execution_count": 9,
      "outputs": [
        {
          "output_type": "stream",
          "name": "stdout",
          "text": [
            "Arquivo não encontrado. Verifique o caminho do arquivo.\n"
          ]
        }
      ]
    },
    {
      "cell_type": "code",
      "source": [
        "import os\n",
        "\n",
        "# Verifique se o executável do Tesseract está acessível\n",
        "tesseract_path = r'C:\\Program Files\\Tesseract-OCR\\tesseract.exe'\n",
        "if os.path.isfile(tesseract_path):\n",
        "    print(\"Tesseract está instalado corretamente no caminho especificado.\")\n",
        "else:\n",
        "    print(\"Tesseract não foi encontrado no caminho especificado. Verifique a instalação.\")\n"
      ],
      "metadata": {
        "colab": {
          "base_uri": "https://localhost:8080/"
        },
        "id": "67SHRSmsDhM0",
        "outputId": "5cc2905d-40f4-4b2a-cb62-29d45e25c887"
      },
      "execution_count": 10,
      "outputs": [
        {
          "output_type": "stream",
          "name": "stdout",
          "text": [
            "Tesseract não foi encontrado no caminho especificado. Verifique a instalação.\n"
          ]
        }
      ]
    },
    {
      "cell_type": "code",
      "source": [
        "import pytesseract\n",
        "from PIL import Image\n",
        "import os\n",
        "\n",
        "# Certifique-se de que o caminho para o Tesseract esteja correto\n",
        "pytesseract.pytesseract.tesseract_cmd = r'C:\\Program Files\\Tesseract-OCR\\tesseract.exe'\n",
        "\n",
        "try:\n",
        "    # Caminho completo para a imagem\n",
        "    image_path = r'C:\\Users\\Gabriely\\Downloads\\documento_scaneado.jpg'\n",
        "\n",
        "    # Verifique se o arquivo de imagem existe\n",
        "    if os.path.isfile(image_path):\n",
        "        print(\"Arquivo encontrado!\")\n",
        "        image = Image.open(image_path)\n",
        "\n",
        "        # Usar Tesseract para extrair texto\n",
        "        text = pytesseract.image_to_string(image, lang='por')  # Use 'por' para Português\n",
        "\n",
        "        print(\"Texto extraído:\")\n",
        "        print(text)\n",
        "    else:\n",
        "        print(\"Arquivo não encontrado. Verifique o caminho do arquivo.\")\n",
        "except Exception as e:\n",
        "    print(f\"Ocorreu um erro: {e}\")\n"
      ],
      "metadata": {
        "colab": {
          "base_uri": "https://localhost:8080/"
        },
        "id": "xeO9gUP8D9kY",
        "outputId": "098f621f-0bb6-4ab0-a8c4-579b5f811532"
      },
      "execution_count": 11,
      "outputs": [
        {
          "output_type": "stream",
          "name": "stdout",
          "text": [
            "Arquivo não encontrado. Verifique o caminho do arquivo.\n"
          ]
        }
      ]
    },
    {
      "cell_type": "code",
      "source": [
        "import pytesseract\n",
        "from PIL import Image\n",
        "import os\n",
        "\n",
        "# Certifique-se de que o caminho para o Tesseract esteja correto\n",
        "pytesseract.pytesseract.tesseract_cmd = r'C:\\Program Files\\Tesseract-OCR\\tesseract.exe'\n",
        "\n",
        "try:\n",
        "    # Caminho completo para a imagem\n",
        "    image_path = r'C:\\Users\\Gabriely\\Downloads\\documento_scaneado.jpg'\n",
        "\n",
        "    # Verifique se o arquivo de imagem existe\n",
        "    if os.path.isfile(image_path):\n",
        "        print(\"Arquivo encontrado!\")\n",
        "        image = Image.open(image_path)\n",
        "\n",
        "        # Usar Tesseract para extrair texto\n",
        "        text = pytesseract.image_to_string(image, lang='por')  # Use 'por' para Português\n",
        "\n",
        "        print(\"Texto extraído:\")\n",
        "        print(text)\n",
        "    else:\n",
        "        print(\"Arquivo não encontrado. Verifique o caminho do arquivo.\")\n",
        "except Exception as e:\n",
        "    print(f\"Ocorreu um erro: {e}\")\n"
      ],
      "metadata": {
        "colab": {
          "base_uri": "https://localhost:8080/"
        },
        "id": "RYcwr-5CEEZq",
        "outputId": "af7588ae-cf71-4138-9c78-984e23b8f5a0"
      },
      "execution_count": 12,
      "outputs": [
        {
          "output_type": "stream",
          "name": "stdout",
          "text": [
            "Arquivo não encontrado. Verifique o caminho do arquivo.\n"
          ]
        }
      ]
    }
  ]
}