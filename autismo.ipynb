{
  "nbformat": 4,
  "nbformat_minor": 0,
  "metadata": {
    "colab": {
      "provenance": [],
      "authorship_tag": "ABX9TyNC6LA9Bvi8DwCbbvgCjVL9",
      "include_colab_link": true
    },
    "kernelspec": {
      "name": "python3",
      "display_name": "Python 3"
    },
    "language_info": {
      "name": "python"
    }
  },
  "cells": [
    {
      "cell_type": "markdown",
      "metadata": {
        "id": "view-in-github",
        "colab_type": "text"
      },
      "source": [
        "<a href=\"https://colab.research.google.com/github/Gasi23/Atividadedia18/blob/main/autismo.ipynb\" target=\"_parent\"><img src=\"https://colab.research.google.com/assets/colab-badge.svg\" alt=\"Open In Colab\"/></a>"
      ]
    },
    {
      "cell_type": "code",
      "execution_count": 6,
      "metadata": {
        "colab": {
          "base_uri": "https://localhost:8080/"
        },
        "id": "acFzSBGsqK3F",
        "outputId": "d5e40bf3-ed00-48ce-f8ad-d54362b3a562"
      },
      "outputs": [
        {
          "output_type": "stream",
          "name": "stdout",
          "text": [
            "Seu filho evita o contato visual? (s/n)s\n",
            "Seu filho parece não responder ao seu nome? (s/n)n\n",
            "Seu filho tem dificuldade em manter conversas? (s/n)s\n",
            "Seu filho mostra interesse restrito em alguns temas? (s/n)n\n",
            "Seu filho demonstra comportamentos repetitivos? (s/n)s\n",
            "Seu filho tem dificuldade em entender as emoções dos outros? (s/n)n\n",
            "Seu filho prefere brincar sozinho? (s/n)s\n",
            "Seu filho apresenta sensibilidade a sons altos ou luzes brilhantes? (s/n)n\n",
            "Seu filho tem dificuldade com mudanças na rotina? (s/n)s\n",
            "Seu filho mostra interesse excessivo por partes de objetos? (s/n)n\n",
            "Resultado da avaliação: Alguns sinais de autismo. Pode ser útil discutir com um profissional.\n"
          ]
        }
      ],
      "source": [
        "# Programa para avaliar sinais de autismo em crianças\n",
        "\n",
        "def perguntar_sinais():\n",
        "    perguntas = {\n",
        "        \"Seu filho evita o contato visual? (s/n)\": 10,\n",
        "        \"Seu filho parece não responder ao seu nome? (s/n)\": 10,\n",
        "        \"Seu filho tem dificuldade em manter conversas? (s/n)\": 10,\n",
        "        \"Seu filho mostra interesse restrito em alguns temas? (s/n)\": 10,\n",
        "        \"Seu filho demonstra comportamentos repetitivos? (s/n)\": 10,\n",
        "        \"Seu filho tem dificuldade em entender as emoções dos outros? (s/n)\": 10,\n",
        "        \"Seu filho prefere brincar sozinho? (s/n)\": 10,\n",
        "        \"Seu filho apresenta sensibilidade a sons altos ou luzes brilhantes? (s/n)\": 10,\n",
        "        \"Seu filho tem dificuldade com mudanças na rotina? (s/n)\": 10,\n",
        "        \"Seu filho mostra interesse excessivo por partes de objetos? (s/n)\": 10,\n",
        "    }\n",
        "\n",
        "    pontuacao = 0\n",
        "\n",
        "    for pergunta, peso in perguntas.items():\n",
        "        resposta = input(pergunta)\n",
        "        if resposta.lower() == 's':\n",
        "            pontuacao += peso\n",
        "\n",
        "    return pontuacao\n",
        "\n",
        "def avaliar_resultado(pontuacao):\n",
        "    if pontuacao >= 70:\n",
        "        return \"Alta probabilidade de sinais de autismo. Recomenda-se procurar um profissional para avaliação detalhada.\"\n",
        "    elif 30 <= pontuacao < 70:\n",
        "        return \"Alguns sinais de autismo. Pode ser útil discutir com um profissional.\"\n",
        "    else:\n",
        "        return \"Baixa probabilidade de sinais de autismo. No entanto, continue observando e consulte um profissional se necessário.\"\n",
        "\n",
        "# Coletando respostas do usuário\n",
        "pontuacao_total = perguntar_sinais()\n",
        "resultado = avaliar_resultado(pontuacao_total)\n",
        "\n",
        "print(f\"Resultado da avaliação: {resultado}\")\n"
      ]
    }
  ]
}