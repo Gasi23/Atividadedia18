{
  "nbformat": 4,
  "nbformat_minor": 0,
  "metadata": {
    "colab": {
      "provenance": [],
      "authorship_tag": "ABX9TyMymxUU+rI/uvYDVsYZshg5",
      "include_colab_link": true
    },
    "kernelspec": {
      "name": "python3",
      "display_name": "Python 3"
    },
    "language_info": {
      "name": "python"
    }
  },
  "cells": [
    {
      "cell_type": "markdown",
      "metadata": {
        "id": "view-in-github",
        "colab_type": "text"
      },
      "source": [
        "<a href=\"https://colab.research.google.com/github/Gasi23/Atividadedia18/blob/main/Diabetes.ipynb\" target=\"_parent\"><img src=\"https://colab.research.google.com/assets/colab-badge.svg\" alt=\"Open In Colab\"/></a>"
      ]
    },
    {
      "cell_type": "code",
      "execution_count": 4,
      "metadata": {
        "colab": {
          "base_uri": "https://localhost:8080/"
        },
        "id": "acFzSBGsqK3F",
        "outputId": "ea0644c5-d078-4670-8cf2-e5755f560af3"
      },
      "outputs": [
        {
          "output_type": "stream",
          "name": "stdout",
          "text": [
            "Qual é a sua idade? 22\n",
            "Você tem histórico familiar de diabetes tipo 2? (s/n)n\n",
            "Qual é o seu IMC (Índice de Massa Corporal)? 22\n",
            "Você pratica exercícios físicos regularmente? (s/n)n\n",
            "A probabilidade de você desenvolver diabetes tipo 2 é baixa.\n"
          ]
        }
      ],
      "source": [
        "# Programa para estimar a probabilidade de diabetes tipo 2\n",
        "\n",
        "def perguntar_fatores():\n",
        "    perguntas = {\n",
        "        \"Qual é a sua idade? \": {'peso': 20, 'limite': 45},  # Acima de 45 anos\n",
        "        \"Você tem histórico familiar de diabetes tipo 2? (s/n)\": {'peso': 30, 'limite': 's'},  # Sim\n",
        "        \"Qual é o seu IMC (Índice de Massa Corporal)? \": {'peso': 30, 'limite': 25},  # Acima de 25\n",
        "        \"Você pratica exercícios físicos regularmente? (s/n)\": {'peso': 20, 'limite': 'n'}  # Não\n",
        "    }\n",
        "\n",
        "    pontuacao = 0\n",
        "\n",
        "    for pergunta, crit in perguntas.items():\n",
        "        resposta = input(pergunta)\n",
        "        if isinstance(crit['limite'], int):\n",
        "            if int(resposta) > crit['limite']:\n",
        "                pontuacao += crit['peso']\n",
        "        else:\n",
        "            if resposta.lower() == crit['limite']:\n",
        "                pontuacao += crit['peso']\n",
        "\n",
        "    return pontuacao\n",
        "\n",
        "def calcular_probabilidade(pontuacao):\n",
        "    if pontuacao >= 75:\n",
        "        return \"alta\"\n",
        "    elif 50 <= pontuacao < 75:\n",
        "        return \"moderada\"\n",
        "    else:\n",
        "        return \"baixa\"\n",
        "\n",
        "# Coletando respostas do usuário\n",
        "pontuacao_total = perguntar_fatores()\n",
        "probabilidade = calcular_probabilidade(pontuacao_total)\n",
        "\n",
        "print(f\"A probabilidade de você desenvolver diabetes tipo 2 é {probabilidade}.\")\n"
      ]
    }
  ]
}