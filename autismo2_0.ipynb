{
  "nbformat": 4,
  "nbformat_minor": 0,
  "metadata": {
    "colab": {
      "provenance": [],
      "authorship_tag": "ABX9TyNDKzfW/8cOkXgrAhM1+3VS",
      "include_colab_link": true
    },
    "kernelspec": {
      "name": "python3",
      "display_name": "Python 3"
    },
    "language_info": {
      "name": "python"
    }
  },
  "cells": [
    {
      "cell_type": "markdown",
      "metadata": {
        "id": "view-in-github",
        "colab_type": "text"
      },
      "source": [
        "<a href=\"https://colab.research.google.com/github/Gasi23/Atividadedia18/blob/main/autismo2_0.ipynb\" target=\"_parent\"><img src=\"https://colab.research.google.com/assets/colab-badge.svg\" alt=\"Open In Colab\"/></a>"
      ]
    },
    {
      "cell_type": "code",
      "execution_count": 7,
      "metadata": {
        "colab": {
          "base_uri": "https://localhost:8080/"
        },
        "id": "acFzSBGsqK3F",
        "outputId": "2b3cdd59-0915-45fe-b097-2aca299dcf80"
      },
      "outputs": [
        {
          "output_type": "stream",
          "name": "stdout",
          "text": [
            "Digite o nome do paciente: Gabriely\n",
            "Seu filho evita o contato visual? (s/n)n\n",
            "Seu filho parece não responder ao seu nome? (s/n)n\n",
            "Seu filho tem dificuldade em manter conversas? (s/n)s\n",
            "Seu filho mostra interesse restrito em alguns temas? (s/n)s\n",
            "Seu filho demonstra comportamentos repetitivos? (s/n)s\n",
            "Seu filho tem dificuldade em entender as emoções dos outros? (s/n)n\n",
            "Seu filho prefere brincar sozinho? (s/n)s\n",
            "Seu filho apresenta sensibilidade a sons altos ou luzes brilhantes? (s/n)s\n",
            "Seu filho tem dificuldade com mudanças na rotina? (s/n)s\n",
            "Seu filho mostra interesse excessivo por partes de objetos? (s/n)n\n",
            "Resultado da avaliação: Alguns sinais de autismo. Pode ser útil discutir com um profissional.\n",
            "Os dados foram salvos para o paciente Gabriely.\n"
          ]
        }
      ],
      "source": [
        "import json\n",
        "from datetime import datetime\n",
        "\n",
        "# Função para perguntar sobre os sinais de autismo\n",
        "def perguntar_sinais():\n",
        "    perguntas = {\n",
        "        \"Seu filho evita o contato visual? (s/n)\": 10,\n",
        "        \"Seu filho parece não responder ao seu nome? (s/n)\": 10,\n",
        "        \"Seu filho tem dificuldade em manter conversas? (s/n)\": 10,\n",
        "        \"Seu filho mostra interesse restrito em alguns temas? (s/n)\": 10,\n",
        "        \"Seu filho demonstra comportamentos repetitivos? (s/n)\": 10,\n",
        "        \"Seu filho tem dificuldade em entender as emoções dos outros? (s/n)\": 10,\n",
        "        \"Seu filho prefere brincar sozinho? (s/n)\": 10,\n",
        "        \"Seu filho apresenta sensibilidade a sons altos ou luzes brilhantes? (s/n)\": 10,\n",
        "        \"Seu filho tem dificuldade com mudanças na rotina? (s/n)\": 10,\n",
        "        \"Seu filho mostra interesse excessivo por partes de objetos? (s/n)\": 10,\n",
        "    }\n",
        "\n",
        "    pontuacao = 0\n",
        "\n",
        "    for pergunta, peso in perguntas.items():\n",
        "        resposta = input(pergunta)\n",
        "        if resposta.lower() == 's':\n",
        "            pontuacao += peso\n",
        "\n",
        "    return pontuacao\n",
        "\n",
        "# Função para avaliar o resultado com base na pontuação\n",
        "def avaliar_resultado(pontuacao):\n",
        "    if pontuacao >= 70:\n",
        "        return \"Alta probabilidade de sinais de autismo. Recomenda-se procurar um profissional para avaliação detalhada.\"\n",
        "    elif 30 <= pontuacao < 70:\n",
        "        return \"Alguns sinais de autismo. Pode ser útil discutir com um profissional.\"\n",
        "    else:\n",
        "        return \"Baixa probabilidade de sinais de autismo. No entanto, continue observando e consulte um profissional se necessário.\"\n",
        "\n",
        "# Função para salvar os dados em um arquivo JSON\n",
        "def salvar_dados(paciente, pontuacao, resultado):\n",
        "    data_atual = datetime.now().strftime(\"%d/%m/%Y %H:%M\")\n",
        "    dados = {\n",
        "        'paciente': paciente,\n",
        "        'pontuacao': pontuacao,\n",
        "        'resultado': resultado,\n",
        "        'data': data_atual\n",
        "    }\n",
        "\n",
        "    try:\n",
        "        with open('historico_avaliacoes.json', 'r') as arquivo:\n",
        "            historico = json.load(arquivo)\n",
        "    except FileNotFoundError:\n",
        "        historico = []\n",
        "\n",
        "    historico.append(dados)\n",
        "\n",
        "    with open('historico_avaliacoes.json', 'w') as arquivo:\n",
        "        json.dump(historico, arquivo, indent=4)\n",
        "\n",
        "# Função principal\n",
        "def main():\n",
        "    paciente = input(\"Digite o nome do paciente: \")\n",
        "    pontuacao_total = perguntar_sinais()\n",
        "    resultado = avaliar_resultado(pontuacao_total)\n",
        "\n",
        "    print(f\"Resultado da avaliação: {resultado}\")\n",
        "\n",
        "    salvar_dados(paciente, pontuacao_total, resultado)\n",
        "    print(f\"Os dados foram salvos para o paciente {paciente}.\")\n",
        "\n",
        "if __name__ == \"__main__\":\n",
        "    main()\n",
        "\n"
      ]
    }
  ]
}